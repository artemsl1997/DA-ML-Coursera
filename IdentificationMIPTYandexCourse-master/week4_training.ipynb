{
 "cells": [
  {
   "cell_type": "markdown",
   "metadata": {},
   "source": [
    "# <center> Идентификация пользователей по посещенным веб-страницам\n",
    "<img src='http://i.istockimg.com/file_thumbview_approve/21546327/5/stock-illustration-21546327-identification-de-l-utilisateur.jpg'>\n",
    "\n",
    "# <center>Неделя 4.  Сравнение алгоритмов классификации\n",
    "\n",
    "Теперь мы наконец подойдем к обучению моделей классификации, сравним на кросс-валидации несколько алгоритмов, разберемся, какие параметры длины сессии (*session_length* и *window_size*) лучше использовать. Также для выбранного алгоритма построим кривые валидации (как качество классификации зависит от одного из гиперпараметров алгоритма) и кривые обучения (как качество классификации зависит от объема выборки).\n",
    "\n",
    "**План 4 недели:**\n",
    "- Часть 1. Сравнение нескольких алгоритмов на сессиях из 10 сайтов\n",
    "- Часть 2. Выбор параметров – длины сессии и ширины окна\n",
    "- Часть 3. Идентификация  конкретного пользователя и кривые обучения\n",
    " \n",
    "\n",
    "\n",
    "**В этой части проекта Вам могут быть полезны видеозаписи следующих лекций курса \"Обучение на размеченных данных\":**\n",
    "   - [Линейная классификация](https://www.coursera.org/learn/supervised-learning/lecture/jqLcO/linieinaia-klassifikatsiia)\n",
    "   - [Сравнение алгоритмов и выбор гиперпараметров](https://www.coursera.org/learn/supervised-learning/lecture/aF79U/sravnieniie-alghoritmov-i-vybor-ghipierparamietrov)\n",
    "   - [Кросс-валидация. Sklearn.cross_validation](https://www.coursera.org/learn/supervised-learning/lecture/XbHEk/kross-validatsiia-sklearn-cross-validation)\n",
    "   - [Линейные модели. Sklearn.linear_model. Классификация](https://www.coursera.org/learn/supervised-learning/lecture/EBg9t/linieinyie-modieli-sklearn-linear-model-klassifikatsiia)\n",
    "   - и многие другие\n"
   ]
  },
  {
   "cell_type": "code",
   "execution_count": 1,
   "metadata": {
    "collapsed": false
   },
   "outputs": [
    {
     "name": "stdout",
     "output_type": "stream",
     "text": [
      "Populating the interactive namespace from numpy and matplotlib\n"
     ]
    }
   ],
   "source": [
    "from __future__ import division, print_function\n",
    "# отключим всякие предупреждения Anaconda\n",
    "import warnings\n",
    "warnings.filterwarnings('ignore')\n",
    "from time import time\n",
    "import itertools\n",
    "import numpy as np\n",
    "import pandas as pd\n",
    "import seaborn as sns\n",
    "%pylab inline\n",
    "import pickle\n",
    "from scipy.sparse import csr_matrix\n",
    "from sklearn.model_selection import train_test_split, cross_val_score, StratifiedKFold, GridSearchCV\n",
    "from sklearn.metrics import accuracy_score, f1_score"
   ]
  },
  {
   "cell_type": "markdown",
   "metadata": {},
   "source": [
    "## Часть 1. Сравнение нескольких алгоритмов на сессиях из 10 сайтов"
   ]
  },
  {
   "cell_type": "markdown",
   "metadata": {},
   "source": [
    "**Загрузим сериализованные ранее объекты *X_sparse_10users* и *y_10users*, соответствующие обучающей выборке для 10 пользователей.**"
   ]
  },
  {
   "cell_type": "code",
   "execution_count": 18,
   "metadata": {
    "collapsed": false
   },
   "outputs": [],
   "source": [
    "with open('capstone_websites_data/X_sparse_10users.pkl', 'rb') as X_sparse_10users_pkl:\n",
    "    X_sparse_10users = pickle.load(X_sparse_10users_pkl)\n",
    "with open('capstone_websites_data/y_10users.pkl', 'rb') as y_10users_pkl:\n",
    "    y_10users = pickle.load(y_10users_pkl)"
   ]
  },
  {
   "cell_type": "markdown",
   "metadata": {},
   "source": [
    "**Здесь более 13 тысяч сессий и почти 5 тысяч уникальных посещенных сайтов.**"
   ]
  },
  {
   "cell_type": "code",
   "execution_count": 19,
   "metadata": {
    "collapsed": false
   },
   "outputs": [
    {
     "data": {
      "text/plain": [
       "(13084, 4913)"
      ]
     },
     "execution_count": 19,
     "metadata": {},
     "output_type": "execute_result"
    }
   ],
   "source": [
    "X_sparse_10users.shape"
   ]
  },
  {
   "cell_type": "markdown",
   "metadata": {},
   "source": [
    "**Разобьем выборку на 2 части. На одной будем проводить кросс-валидацию, на второй – оценивать модель, обученную после кросс-валидации.**"
   ]
  },
  {
   "cell_type": "code",
   "execution_count": 20,
   "metadata": {
    "collapsed": false
   },
   "outputs": [],
   "source": [
    "X_train, X_valid, y_train, y_valid = train_test_split(X_sparse_10users, y_10users, \n",
    "                                                      test_size=0.3, \n",
    "                                                     random_state=7, stratify=y_10users)"
   ]
  },
  {
   "cell_type": "markdown",
   "metadata": {},
   "source": [
    "**Зададим заранее тип кросс-валидации: 3-кратная, с перемешиванием, параметр random_state=7 – для воспроизводимости.**"
   ]
  },
  {
   "cell_type": "code",
   "execution_count": 21,
   "metadata": {
    "collapsed": true
   },
   "outputs": [],
   "source": [
    "skf = StratifiedKFold(n_splits=3, shuffle=True, random_state=7)"
   ]
  },
  {
   "cell_type": "markdown",
   "metadata": {},
   "source": [
    "**Вспомогательная функция для отрисовки кривых валидации после запуска GridSearchCV (или RandomizedCV).**"
   ]
  },
  {
   "cell_type": "code",
   "execution_count": 2,
   "metadata": {
    "collapsed": true
   },
   "outputs": [],
   "source": [
    "def plot_validation_curves(param_values, grid_cv_results_):\n",
    "    train_mu, train_std = grid_cv_results_['mean_train_score'], grid_cv_results_['std_train_score']\n",
    "    valid_mu, valid_std = grid_cv_results_['mean_test_score'], grid_cv_results_['std_test_score']\n",
    "    train_line = plt.plot(param_values, train_mu, '-', label='train', color='green')\n",
    "    valid_line = plt.plot(param_values, valid_mu, '-', label='test', color='red')\n",
    "    plt.fill_between(param_values, train_mu - train_std, train_mu + train_std, edgecolor='none',\n",
    "                     facecolor=train_line[0].get_color(), alpha=0.2)\n",
    "    plt.fill_between(param_values, valid_mu - valid_std, valid_mu + valid_std, edgecolor='none',\n",
    "                     facecolor=valid_line[0].get_color(), alpha=0.2)\n",
    "    plt.legend()"
   ]
  },
  {
   "cell_type": "code",
   "execution_count": 3,
   "metadata": {
    "collapsed": true
   },
   "outputs": [],
   "source": [
    "def write_answer_to_file(answer, file_address):\n",
    "    with open(file_address, 'w') as out_f:\n",
    "        out_f.write(str(answer))"
   ]
  },
  {
   "cell_type": "markdown",
   "metadata": {},
   "source": [
    "**1. Обучите KNeighborsClassifier со 100 ближайшими соседями (остальные параметры оставьте по умолчанию, только n_jobs=-1 для распараллеливания) и посмотрите на долю правильных ответов на 3-кратной кросс-валидации (ради воспроизводимости используйте для этого объект StratifiedKFold skf) по выборке (X_train, y_train) и отдельно на выборке (X_valid, y_valid).**"
   ]
  },
  {
   "cell_type": "code",
   "execution_count": 4,
   "metadata": {
    "collapsed": true
   },
   "outputs": [],
   "source": [
    "from sklearn.neighbors import KNeighborsClassifier"
   ]
  },
  {
   "cell_type": "code",
   "execution_count": 9,
   "metadata": {
    "collapsed": false
   },
   "outputs": [],
   "source": [
    "knn = KNeighborsClassifier(n_neighbors=100, n_jobs=-1)"
   ]
  },
  {
   "cell_type": "code",
   "execution_count": 15,
   "metadata": {
    "collapsed": false
   },
   "outputs": [
    {
     "name": "stdout",
     "output_type": "stream",
     "text": [
      "Wall time: 3.05 s\n"
     ]
    }
   ],
   "source": [
    "%%time\n",
    "knn_cv_scores = cross_val_score(knn, X_train, y_train, cv=skf, n_jobs=-1)"
   ]
  },
  {
   "cell_type": "code",
   "execution_count": 21,
   "metadata": {
    "collapsed": false
   },
   "outputs": [
    {
     "data": {
      "text/plain": [
       "(0.53123051143725408, 0.0010331440593672654)"
      ]
     },
     "execution_count": 21,
     "metadata": {},
     "output_type": "execute_result"
    }
   ],
   "source": [
    "knn_cv_scores.mean(), knn_cv_scores.std()"
   ]
  },
  {
   "cell_type": "code",
   "execution_count": 19,
   "metadata": {
    "collapsed": false
   },
   "outputs": [
    {
     "data": {
      "text/plain": [
       "KNeighborsClassifier(algorithm='auto', leaf_size=30, metric='minkowski',\n",
       "           metric_params=None, n_jobs=-1, n_neighbors=100, p=2,\n",
       "           weights='uniform')"
      ]
     },
     "execution_count": 19,
     "metadata": {},
     "output_type": "execute_result"
    }
   ],
   "source": [
    "knn.fit(X_train, y_train)"
   ]
  },
  {
   "cell_type": "code",
   "execution_count": 23,
   "metadata": {
    "collapsed": false
   },
   "outputs": [
    {
     "name": "stdout",
     "output_type": "stream",
     "text": [
      "Wall time: 3 s\n"
     ]
    }
   ],
   "source": [
    "%%time\n",
    "knn_valid_acc = accuracy_score(y_valid, knn.predict(X_valid))"
   ]
  },
  {
   "cell_type": "code",
   "execution_count": 24,
   "metadata": {
    "collapsed": false
   },
   "outputs": [
    {
     "data": {
      "text/plain": [
       "0.5560366785532348"
      ]
     },
     "execution_count": 24,
     "metadata": {},
     "output_type": "execute_result"
    }
   ],
   "source": [
    "knn_valid_acc"
   ]
  },
  {
   "cell_type": "markdown",
   "metadata": {},
   "source": [
    "**Запишите в файл *answer4_1.txt* доли правильных ответов для KNeighborsClassifier на кросс-валидации и отложенной выборке. Округлите каждое до 3 знаков после запятой и запишите в файл через пробел.**"
   ]
  },
  {
   "cell_type": "code",
   "execution_count": 25,
   "metadata": {
    "collapsed": true
   },
   "outputs": [],
   "source": [
    "write_answer_to_file(\"{} {}\".format(round(float(np.mean(knn_cv_scores)), 3), \n",
    "                                    round(knn_valid_acc, 3)),\n",
    "                     'answer4_1.txt')"
   ]
  },
  {
   "cell_type": "markdown",
   "metadata": {},
   "source": [
    "**2. Обучите случайный лес (RandomForestClassifier) из 100 деревьев (для воспроизводимости random_state=7). Посмотрите на OOB-оценку (для этого надо сразу установить oob_score=True) и на долю правильных ответов на выборке (X_valid, y_valid). Для распараллеливания задайте n_jobs=-1.**"
   ]
  },
  {
   "cell_type": "code",
   "execution_count": 5,
   "metadata": {
    "collapsed": true
   },
   "outputs": [],
   "source": [
    "from sklearn.ensemble import RandomForestClassifier"
   ]
  },
  {
   "cell_type": "code",
   "execution_count": 28,
   "metadata": {
    "collapsed": true
   },
   "outputs": [],
   "source": [
    "forest = RandomForestClassifier(n_estimators=100, random_state=7, oob_score=True)"
   ]
  },
  {
   "cell_type": "code",
   "execution_count": 29,
   "metadata": {
    "collapsed": false
   },
   "outputs": [
    {
     "data": {
      "text/plain": [
       "RandomForestClassifier(bootstrap=True, class_weight=None, criterion='gini',\n",
       "            max_depth=None, max_features='auto', max_leaf_nodes=None,\n",
       "            min_impurity_split=1e-07, min_samples_leaf=1,\n",
       "            min_samples_split=2, min_weight_fraction_leaf=0.0,\n",
       "            n_estimators=100, n_jobs=1, oob_score=True, random_state=7,\n",
       "            verbose=0, warm_start=False)"
      ]
     },
     "execution_count": 29,
     "metadata": {},
     "output_type": "execute_result"
    }
   ],
   "source": [
    "forest.fit(X_train, y_train)"
   ]
  },
  {
   "cell_type": "code",
   "execution_count": 30,
   "metadata": {
    "collapsed": false
   },
   "outputs": [
    {
     "data": {
      "text/plain": [
       "0.7029919196331077"
      ]
     },
     "execution_count": 30,
     "metadata": {},
     "output_type": "execute_result"
    }
   ],
   "source": [
    "forest.oob_score_"
   ]
  },
  {
   "cell_type": "code",
   "execution_count": 31,
   "metadata": {
    "collapsed": false
   },
   "outputs": [
    {
     "data": {
      "text/plain": [
       "0.71803362200713194"
      ]
     },
     "execution_count": 31,
     "metadata": {},
     "output_type": "execute_result"
    }
   ],
   "source": [
    "rf_valid_acc = accuracy_score(y_valid, forest.predict(X_valid))\n",
    "rf_valid_acc"
   ]
  },
  {
   "cell_type": "markdown",
   "metadata": {},
   "source": [
    "**Запишите в файл *answer4_2.txt* доли правильных ответов для RandomForestClassifier при Out-of-Bag оценке на и отложенной выборке. Округлите каждое до 3 знаков после запятой и запишите в файл через пробел.**"
   ]
  },
  {
   "cell_type": "code",
   "execution_count": 32,
   "metadata": {
    "collapsed": true
   },
   "outputs": [],
   "source": [
    "write_answer_to_file(\"{} {}\".format(round(forest.oob_score_, 3), round(rf_valid_acc, 3)),\n",
    "                     'answer4_2.txt')"
   ]
  },
  {
   "cell_type": "markdown",
   "metadata": {},
   "source": [
    "**3. Обучите логистическую регрессию (LogisticRegression) с параметром C по умолчанию и random_state=7 (для воспроизводимости). Посмотрите на долю правильных ответов на кросс-валидации (используйте объект skf, созданный ранее) и на выборке (X_valid, y_valid). Для распараллеливания задайте n_jobs=-1.**"
   ]
  },
  {
   "cell_type": "code",
   "execution_count": 6,
   "metadata": {
    "collapsed": true
   },
   "outputs": [],
   "source": [
    "from sklearn.linear_model import LogisticRegression, LogisticRegressionCV"
   ]
  },
  {
   "cell_type": "code",
   "execution_count": 34,
   "metadata": {
    "collapsed": true
   },
   "outputs": [],
   "source": [
    "logit = LogisticRegression(random_state=7)"
   ]
  },
  {
   "cell_type": "code",
   "execution_count": 35,
   "metadata": {
    "collapsed": false
   },
   "outputs": [
    {
     "name": "stdout",
     "output_type": "stream",
     "text": [
      "Wall time: 3min 11s\n"
     ]
    }
   ],
   "source": [
    "%%time\n",
    "logit_cv_scores = cross_val_score(logit, X_train, y_train, cv=skf, n_jobs=-1)"
   ]
  },
  {
   "cell_type": "code",
   "execution_count": 36,
   "metadata": {
    "collapsed": false
   },
   "outputs": [
    {
     "data": {
      "text/plain": [
       "0.73694924176249899"
      ]
     },
     "execution_count": 36,
     "metadata": {},
     "output_type": "execute_result"
    }
   ],
   "source": [
    "logit_cv_scores.mean()"
   ]
  },
  {
   "cell_type": "code",
   "execution_count": 37,
   "metadata": {
    "collapsed": false
   },
   "outputs": [
    {
     "data": {
      "text/plain": [
       "LogisticRegression(C=1.0, class_weight=None, dual=False, fit_intercept=True,\n",
       "          intercept_scaling=1, max_iter=100, multi_class='ovr', n_jobs=1,\n",
       "          penalty='l2', random_state=7, solver='liblinear', tol=0.0001,\n",
       "          verbose=0, warm_start=False)"
      ]
     },
     "execution_count": 37,
     "metadata": {},
     "output_type": "execute_result"
    }
   ],
   "source": [
    "logit.fit(X_train, y_train)"
   ]
  },
  {
   "cell_type": "code",
   "execution_count": 39,
   "metadata": {
    "collapsed": false
   },
   "outputs": [
    {
     "data": {
      "text/plain": [
       "0.75700458481915434"
      ]
     },
     "execution_count": 39,
     "metadata": {},
     "output_type": "execute_result"
    }
   ],
   "source": [
    "accuracy_score(y_valid, logit.predict(X_valid))"
   ]
  },
  {
   "cell_type": "markdown",
   "metadata": {},
   "source": [
    "**Почитайте документацию к [LogisticRegressionCV](http://scikit-learn.org/stable/modules/generated/sklearn.linear_model.LogisticRegressionCV.html). Логистическая регрессия хорошо изучена, и для нее существуют алгоритмы быстрого подбора параметра регуляризации C (быстрее, чем с GridSearchCV).**\n",
    "\n",
    "**С помощью LogisticRegressionCV подберите параметр C для LogisticRegression сначала в широком диапазоне: 10 значений от 1e-4 до 1e4, используйте linspace из NumPy. Укажите у LogisticRegressionCV параметры multi_class='multinomial' и random_state=7. Для кросс-валидации используйте объект skf, созданный ранее. Для распараллеливания задайте n_jobs=-1.**\n",
    "\n",
    "**Нарисуйте кривые валидации по параметру С.**"
   ]
  },
  {
   "cell_type": "code",
   "execution_count": 40,
   "metadata": {
    "collapsed": false
   },
   "outputs": [
    {
     "name": "stdout",
     "output_type": "stream",
     "text": [
      "Wall time: 16min 41s\n"
     ]
    }
   ],
   "source": [
    "%%time\n",
    "logit_c_values1 = np.linspace(1e-4, 1e4, 10)\n",
    "\n",
    "logit_grid_searcher1 = LogisticRegressionCV(Cs=logit_c_values1, cv=skf, multi_class='multinomial', random_state=7, n_jobs=-1)\n",
    "\n",
    "logit_grid_searcher1.fit(X_train, y_train)"
   ]
  },
  {
   "cell_type": "markdown",
   "metadata": {},
   "source": [
    "Средние значения доли правильных ответов на кросс-валидации по каждому из 10 параметров С."
   ]
  },
  {
   "cell_type": "code",
   "execution_count": 49,
   "metadata": {
    "collapsed": false
   },
   "outputs": [],
   "source": [
    "logit_mean_cv_scores1 = logit_grid_searcher1.scores_[31].mean(axis=0)"
   ]
  },
  {
   "cell_type": "code",
   "execution_count": 60,
   "metadata": {
    "collapsed": false
   },
   "outputs": [
    {
     "data": {
      "text/plain": [
       "array([  1.00000000e-04,   1.11111120e+03,   2.22222230e+03,\n",
       "         3.33333340e+03,   4.44444450e+03,   5.55555560e+03,\n",
       "         6.66666670e+03,   7.77777780e+03,   8.88888890e+03,\n",
       "         1.00000000e+04])"
      ]
     },
     "execution_count": 60,
     "metadata": {},
     "output_type": "execute_result"
    }
   ],
   "source": [
    "logit_grid_searcher1.Cs_"
   ]
  },
  {
   "cell_type": "code",
   "execution_count": 50,
   "metadata": {
    "collapsed": false
   },
   "outputs": [
    {
     "data": {
      "text/plain": [
       "array([ 0.30017619,  0.72897586,  0.7272283 ,  0.71882344,  0.71772997,\n",
       "        0.71423578,  0.71325203,  0.71139614,  0.71106824,  0.70975766])"
      ]
     },
     "execution_count": 50,
     "metadata": {},
     "output_type": "execute_result"
    }
   ],
   "source": [
    "logit_mean_cv_scores1"
   ]
  },
  {
   "cell_type": "markdown",
   "metadata": {},
   "source": [
    "Выведите лучшее значение доли правильных ответов на кросс-валидации и соответствующее значение С."
   ]
  },
  {
   "cell_type": "code",
   "execution_count": 59,
   "metadata": {
    "collapsed": false
   },
   "outputs": [
    {
     "name": "stdout",
     "output_type": "stream",
     "text": [
      "0.728975856486 1111.1112\n"
     ]
    }
   ],
   "source": [
    "print(logit_mean_cv_scores1.max(), logit_grid_searcher1.Cs_[logit_mean_cv_scores1.argmax()])"
   ]
  },
  {
   "cell_type": "markdown",
   "metadata": {},
   "source": [
    "Нарисуйте график зависимости доли правильных ответов на кросс-валидации от С."
   ]
  },
  {
   "cell_type": "code",
   "execution_count": 61,
   "metadata": {
    "collapsed": false
   },
   "outputs": [
    {
     "data": {
      "image/png": "[encoded data removed]",
      "text/plain": [
       "<matplotlib.figure.Figure at 0x1579c710>"
      ]
     },
     "metadata": {},
     "output_type": "display_data"
    }
   ],
   "source": [
    "plot(logit_c_values1, logit_mean_cv_scores1);"
   ]
  },
  {
   "cell_type": "markdown",
   "metadata": {},
   "source": [
    "**Теперь то же самое, только значения параметра C перебирайте в диапазоне np.linspace(1e-3, 1, 30). Опять нарисуйте кривые валидации, определите максимальное значение доли правильных ответов на кросс-валидации.**"
   ]
  },
  {
   "cell_type": "code",
   "execution_count": 62,
   "metadata": {
    "collapsed": false
   },
   "outputs": [
    {
     "name": "stdout",
     "output_type": "stream",
     "text": [
      "Wall time: 22min 25s\n"
     ]
    }
   ],
   "source": [
    "%%time\n",
    "logit_c_values2 = np.linspace(1e-3, 1, 30)\n",
    "\n",
    "logit_grid_searcher2 = LogisticRegressionCV(Cs=logit_c_values2, cv=skf, random_state=7, n_jobs=-1, multi_class='multinomial')\n",
    "\n",
    "logit_grid_searcher2.fit(X_train, y_train)"
   ]
  },
  {
   "cell_type": "code",
   "execution_count": 162,
   "metadata": {
    "collapsed": false
   },
   "outputs": [
    {
     "data": {
      "text/plain": [
       "array([ 0.001     ,  0.03544828,  0.06989655,  0.10434483,  0.1387931 ,\n",
       "        0.17324138,  0.20768966,  0.24213793,  0.27658621,  0.31103448,\n",
       "        0.34548276,  0.37993103,  0.41437931,  0.44882759,  0.48327586,\n",
       "        0.51772414,  0.55217241,  0.58662069,  0.62106897,  0.65551724,\n",
       "        0.68996552,  0.72441379,  0.75886207,  0.79331034,  0.82775862,\n",
       "        0.8622069 ,  0.89665517,  0.93110345,  0.96555172,  1.        ])"
      ]
     },
     "execution_count": 162,
     "metadata": {},
     "output_type": "execute_result"
    }
   ],
   "source": [
    "logit_c_values2"
   ]
  },
  {
   "cell_type": "markdown",
   "metadata": {},
   "source": [
    "Средние значения доли правильных ответов на кросс-валидации по каждому из 10 параметров С."
   ]
  },
  {
   "cell_type": "code",
   "execution_count": 63,
   "metadata": {
    "collapsed": true
   },
   "outputs": [],
   "source": [
    "logit_mean_cv_scores2 = logit_grid_searcher2.scores_[31].mean(axis=0)"
   ]
  },
  {
   "cell_type": "code",
   "execution_count": 64,
   "metadata": {
    "collapsed": false
   },
   "outputs": [
    {
     "data": {
      "text/plain": [
       "array([ 0.46942737,  0.68093402,  0.70462905,  0.71522013,  0.72046021,\n",
       "        0.7250474 ,  0.72690325,  0.72887036,  0.73007125,  0.73138162,\n",
       "        0.7319271 ,  0.7324737 ,  0.73334794,  0.73334708,  0.7336742 ,\n",
       "        0.73389299,  0.73433015,  0.73487599,  0.73531247,  0.73498471,\n",
       "        0.73563966,  0.73520279,  0.73563916,  0.73553055,  0.73553077,\n",
       "        0.7354213 ,  0.73531204,  0.73563959,  0.73520265,  0.73509386])"
      ]
     },
     "execution_count": 64,
     "metadata": {},
     "output_type": "execute_result"
    }
   ],
   "source": [
    "logit_mean_cv_scores2"
   ]
  },
  {
   "cell_type": "markdown",
   "metadata": {},
   "source": [
    "Выведите лучшее значение доли правильных ответов на кросс-валидации и соответствующее значение С."
   ]
  },
  {
   "cell_type": "code",
   "execution_count": 65,
   "metadata": {
    "collapsed": false
   },
   "outputs": [
    {
     "name": "stdout",
     "output_type": "stream",
     "text": [
      "0.735639662401 0.689965517241\n"
     ]
    }
   ],
   "source": [
    "print(logit_mean_cv_scores2.max(), logit_grid_searcher2.Cs_[logit_mean_cv_scores2.argmax()])"
   ]
  },
  {
   "cell_type": "markdown",
   "metadata": {},
   "source": [
    "Нарисуйте график зависимости доли правильных ответов на кросс-валидации от С."
   ]
  },
  {
   "cell_type": "code",
   "execution_count": 66,
   "metadata": {
    "collapsed": false
   },
   "outputs": [
    {
     "data": {
      "image/png": "[encoded data removed]",
      "text/plain": [
       "<matplotlib.figure.Figure at 0xce62f28>"
      ]
     },
     "metadata": {},
     "output_type": "display_data"
    }
   ],
   "source": [
    "plot(logit_c_values2, logit_mean_cv_scores2);"
   ]
  },
  {
   "cell_type": "markdown",
   "metadata": {},
   "source": [
    "Выведите долю правильных ответов на выборке (X_valid, y_valid) для логистической регрессии с лучшим найденным значением C."
   ]
  },
  {
   "cell_type": "code",
   "execution_count": 67,
   "metadata": {
    "collapsed": false
   },
   "outputs": [],
   "source": [
    "logit_cv_acc = accuracy_score(y_valid, logit_grid_searcher2.predict(X_valid))"
   ]
  },
  {
   "cell_type": "code",
   "execution_count": 68,
   "metadata": {
    "collapsed": false
   },
   "outputs": [
    {
     "data": {
      "text/plain": [
       "0.75241976566479873"
      ]
     },
     "execution_count": 68,
     "metadata": {},
     "output_type": "execute_result"
    }
   ],
   "source": [
    "logit_cv_acc"
   ]
  },
  {
   "cell_type": "markdown",
   "metadata": {},
   "source": [
    "**Запишите в файл *answer4_3.txt* доли правильных ответов для logit_grid_searcher2 на кросс-валидации для лучшего значения параметра С и на отложенной выборке. Округлите каждое до 3 знаков после запятой и запишите в файл через пробел.**"
   ]
  },
  {
   "cell_type": "code",
   "execution_count": 69,
   "metadata": {
    "collapsed": true
   },
   "outputs": [],
   "source": [
    "write_answer_to_file(\"{} {}\".format(round(float(np.max(logit_mean_cv_scores2)), 3), \n",
    "                                    round(logit_cv_acc, 3)),\n",
    "                     'answer4_3.txt')"
   ]
  },
  {
   "cell_type": "markdown",
   "metadata": {},
   "source": [
    "**4. Обучите линейный SVM (LinearSVC) с параметром C=1 и random_state=7 (для воспроизводимости). Посмотрите на долю правильных ответов на кросс-валидации (используйте объект skf, созданный ранее) и на выборке (X_valid, y_valid).**"
   ]
  },
  {
   "cell_type": "code",
   "execution_count": 13,
   "metadata": {
    "collapsed": false
   },
   "outputs": [],
   "source": [
    "from sklearn.svm import LinearSVC"
   ]
  },
  {
   "cell_type": "code",
   "execution_count": 14,
   "metadata": {
    "collapsed": false
   },
   "outputs": [],
   "source": [
    "svm = LinearSVC(C=1, random_state=7)"
   ]
  },
  {
   "cell_type": "code",
   "execution_count": 72,
   "metadata": {
    "collapsed": false
   },
   "outputs": [],
   "source": [
    "svm_cv_scores = cross_val_score(svm, X_train, y_train, cv=skf, n_jobs=-1)"
   ]
  },
  {
   "cell_type": "code",
   "execution_count": 73,
   "metadata": {
    "collapsed": false
   },
   "outputs": [
    {
     "data": {
      "text/plain": [
       "0.72668081181594324"
      ]
     },
     "execution_count": 73,
     "metadata": {},
     "output_type": "execute_result"
    }
   ],
   "source": [
    "svm_cv_scores.mean()"
   ]
  },
  {
   "cell_type": "code",
   "execution_count": 74,
   "metadata": {
    "collapsed": false
   },
   "outputs": [
    {
     "data": {
      "text/plain": [
       "LinearSVC(C=1, class_weight=None, dual=True, fit_intercept=True,\n",
       "     intercept_scaling=1, loss='squared_hinge', max_iter=1000,\n",
       "     multi_class='ovr', penalty='l2', random_state=7, tol=0.0001,\n",
       "     verbose=0)"
      ]
     },
     "execution_count": 74,
     "metadata": {},
     "output_type": "execute_result"
    }
   ],
   "source": [
    "svm.fit(X_train, y_train)"
   ]
  },
  {
   "cell_type": "code",
   "execution_count": 76,
   "metadata": {
    "collapsed": false
   },
   "outputs": [
    {
     "data": {
      "text/plain": [
       "0.75140091696383082"
      ]
     },
     "execution_count": 76,
     "metadata": {},
     "output_type": "execute_result"
    }
   ],
   "source": [
    "accuracy_score(y_valid, svm.predict(X_valid))"
   ]
  },
  {
   "cell_type": "markdown",
   "metadata": {},
   "source": [
    "**С помощью GridSearchCV подберите параметр C для SVM сначала в широком диапазоне: 10 значений от 1e-4 до 1e4, используйте linspace из NumPy. Нарисуйте кривые валидации.**"
   ]
  },
  {
   "cell_type": "code",
   "execution_count": 77,
   "metadata": {
    "collapsed": false
   },
   "outputs": [
    {
     "name": "stdout",
     "output_type": "stream",
     "text": [
      "Wall time: 23 s\n"
     ]
    }
   ],
   "source": [
    "%%time\n",
    "svm_params1 = {'C': np.linspace(1e-4, 1e4, 10)}\n",
    "\n",
    "svm_grid_searcher1 = GridSearchCV(svm, param_grid=svm_params1, cv=skf, n_jobs=-1)\n",
    "svm_grid_searcher1.fit(X_train, y_train)"
   ]
  },
  {
   "cell_type": "markdown",
   "metadata": {},
   "source": [
    "Выведите лучшее значение доли правильных ответов на кросс-валидации и соответствующее значение С."
   ]
  },
  {
   "cell_type": "code",
   "execution_count": 83,
   "metadata": {
    "collapsed": false
   },
   "outputs": [
    {
     "name": "stdout",
     "output_type": "stream",
     "text": [
      "0.661825726141 {'C': 5555.5556000000006}\n"
     ]
    }
   ],
   "source": [
    "print(svm_grid_searcher1.best_score_, svm_grid_searcher1.best_params_)"
   ]
  },
  {
   "cell_type": "code",
   "execution_count": 85,
   "metadata": {
    "collapsed": false,
    "scrolled": true
   },
   "outputs": [
    {
     "data": {
      "text/plain": [
       "{'mean_fit_time': array([ 0.05866671,  2.61733341,  2.59733327,  2.8379999 ,  2.76199992,\n",
       "         3.27033329,  1.99766668,  3.13833332,  1.96533338,  2.21566661]),\n",
       " 'mean_score_time': array([ 0.00133332,  0.00066662,  0.00100009,  0.00100009,  0.00100009,\n",
       "         0.00100009,  0.00066662,  0.0006667 ,  0.00100001,  0.0006667 ]),\n",
       " 'mean_test_score': array([ 0.52598821,  0.63583752,  0.64500983,  0.62895829,  0.65276261,\n",
       "         0.66182573,  0.65636602,  0.61672854,  0.63529155,  0.64282594]),\n",
       " 'mean_train_score': array([ 0.54236702,  0.84216651,  0.84777586,  0.836812  ,  0.85657378,\n",
       "         0.85979674,  0.86072377,  0.81927895,  0.84297669,  0.84865805]),\n",
       " 'param_C': masked_array(data = [0.0001 1111.1112000000001 2222.2223000000004 3333.3334000000004\n",
       "  4444.4445000000005 5555.5556000000006 6666.6667000000007\n",
       "  7777.7778000000008 8888.8888999999999 10000.0],\n",
       "              mask = [False False False False False False False False False False],\n",
       "        fill_value = ?),\n",
       " 'params': ({'C': 0.0001},\n",
       "  {'C': 1111.1112000000001},\n",
       "  {'C': 2222.2223000000004},\n",
       "  {'C': 3333.3334000000004},\n",
       "  {'C': 4444.4445000000005},\n",
       "  {'C': 5555.5556000000006},\n",
       "  {'C': 6666.6667000000007},\n",
       "  {'C': 7777.7778000000008},\n",
       "  {'C': 8888.8888999999999},\n",
       "  {'C': 10000.0}),\n",
       " 'rank_test_score': array([10,  6,  4,  8,  3,  1,  2,  9,  7,  5]),\n",
       " 'split0_test_score': array([ 0.52567877,  0.66601243,  0.62152437,  0.64867517,  0.66895649,\n",
       "         0.67778868,  0.66143278,  0.60909388,  0.6365718 ,  0.65783448]),\n",
       " 'split0_train_score': array([ 0.54253401,  0.86166202,  0.82593018,  0.84707425,  0.85510572,\n",
       "         0.86412064,  0.86100639,  0.80413047,  0.83707589,  0.8524832 ]),\n",
       " 'split1_test_score': array([ 0.51720747,  0.61488037,  0.65978368,  0.60209767,  0.66633891,\n",
       "         0.66601114,  0.67125533,  0.63454605,  0.6358571 ,  0.633235  ]),\n",
       " 'split1_train_score': array([ 0.53545112,  0.82757491,  0.86327166,  0.81349271,  0.87211397,\n",
       "         0.86671033,  0.87522515,  0.83854593,  0.84542328,  0.84280334]),\n",
       " 'split2_test_score': array([ 0.53508197,  0.62655738,  0.65377049,  0.63606557,  0.62295082,\n",
       "         0.64163934,  0.63639344,  0.60655738,  0.63344262,  0.63737705]),\n",
       " 'split2_train_score': array([ 0.54911591,  0.83726261,  0.85412574,  0.84986902,  0.84250164,\n",
       "         0.84855927,  0.84593975,  0.81516045,  0.84643091,  0.85068762]),\n",
       " 'std_fit_time': array([ 0.00679871,  0.99749233,  0.94333184,  0.86804723,  1.05218275,\n",
       "         0.90336302,  0.06184558,  0.91516158,  0.11004955,  0.13424696]),\n",
       " 'std_score_time': array([  4.71482745e-04,   4.71370354e-04,   1.12391596e-07,\n",
       "          1.12391596e-07,   1.12391596e-07,   1.12391596e-07,\n",
       "          4.71370354e-04,   4.71426560e-04,   1.12391596e-07,\n",
       "          4.71426560e-04]),\n",
       " 'std_test_score': array([ 0.00729793,  0.02188474,  0.01680456,  0.01967126,  0.02109341,\n",
       "         0.01505346,  0.01467236,  0.01263623,  0.00133873,  0.01075758]),\n",
       " 'std_train_score': array([ 0.00557988,  0.01434152,  0.01589208,  0.01652865,  0.01213367,\n",
       "         0.00801612,  0.01195738,  0.01434869,  0.00419273,  0.00420431])}"
      ]
     },
     "execution_count": 85,
     "metadata": {},
     "output_type": "execute_result"
    }
   ],
   "source": [
    "svm_grid_searcher1.cv_results_"
   ]
  },
  {
   "cell_type": "markdown",
   "metadata": {},
   "source": [
    "Нарисуйте график зависимости доли правильных ответов на кросс-валидации от С."
   ]
  },
  {
   "cell_type": "code",
   "execution_count": 84,
   "metadata": {
    "collapsed": false
   },
   "outputs": [
    {
     "data": {
      "image/png": "[encoded data removed]",
      "text/plain": [
       "<matplotlib.figure.Figure at 0x15c23668>"
      ]
     },
     "metadata": {},
     "output_type": "display_data"
    }
   ],
   "source": [
    "plot_validation_curves(svm_params1['C'], svm_grid_searcher1.cv_results_)"
   ]
  },
  {
   "cell_type": "markdown",
   "metadata": {},
   "source": [
    "**Но мы помним, что с параметром регуляризации по умолчанию (С=1) на кросс-валидации доля правильных ответов выше. Это тот случай (не редкий), когда можно ошибиться и перебирать параметры не в том диапазоне (причина в том, что мы взяли равномерную сетку на большом интервале и упустили действительно хороший интервал значений C). Здесь намного осмысленней подбирать C в районе 1, к тому же, так модель быстрее обучается, чем при больших C. **\n",
    "\n",
    "**С помощью GridSearchCV подберите параметр C для SVM в диапазоне (1e-3, 1), 30 значений, используйте linspace из NumPy. Нарисуйте кривые валидации.**"
   ]
  },
  {
   "cell_type": "code",
   "execution_count": 22,
   "metadata": {
    "collapsed": false
   },
   "outputs": [
    {
     "name": "stdout",
     "output_type": "stream",
     "text": [
      "Wall time: 30.6 s\n"
     ]
    }
   ],
   "source": [
    "%%time\n",
    "svm_params2 = {'C': np.linspace(1e-3, 1, 30)}\n",
    "\n",
    "svm_grid_searcher2 = GridSearchCV(svm, param_grid=svm_params2, cv=skf, n_jobs=-1)\n",
    "svm_grid_searcher2.fit(X_train, y_train)"
   ]
  },
  {
   "cell_type": "markdown",
   "metadata": {},
   "source": [
    "Выведите лучшее значение доли правильных ответов на кросс-валидации и соответствующее значение С."
   ]
  },
  {
   "cell_type": "code",
   "execution_count": 88,
   "metadata": {
    "collapsed": false
   },
   "outputs": [
    {
     "name": "stdout",
     "output_type": "stream",
     "text": [
      "0.737278881852 {'C': 0.069896551724137931}\n"
     ]
    }
   ],
   "source": [
    "print(svm_grid_searcher2.best_score_, svm_grid_searcher2.best_params_)"
   ]
  },
  {
   "cell_type": "markdown",
   "metadata": {},
   "source": [
    "Нарисуйте график зависимости доли правильных ответов на кросс-валидации от С."
   ]
  },
  {
   "cell_type": "code",
   "execution_count": 89,
   "metadata": {
    "collapsed": false
   },
   "outputs": [
    {
     "data": {
      "image/png": "[encoded data removed]",
      "text/plain": [
       "<matplotlib.figure.Figure at 0x15c2c2e8>"
      ]
     },
     "metadata": {},
     "output_type": "display_data"
    }
   ],
   "source": [
    "plot_validation_curves(svm_params2['C'], svm_grid_searcher2.cv_results_)"
   ]
  },
  {
   "cell_type": "markdown",
   "metadata": {},
   "source": [
    "Выведите долю правильных ответов на выборке (X_valid, y_valid) для LinearSVC с лучшим найденным значением C."
   ]
  },
  {
   "cell_type": "code",
   "execution_count": 90,
   "metadata": {
    "collapsed": false
   },
   "outputs": [],
   "source": [
    "svm_cv_acc = accuracy_score(y_valid, svm_grid_searcher2.predict(X_valid))"
   ]
  },
  {
   "cell_type": "code",
   "execution_count": 91,
   "metadata": {
    "collapsed": false
   },
   "outputs": [
    {
     "data": {
      "text/plain": [
       "0.76184411614875192"
      ]
     },
     "execution_count": 91,
     "metadata": {},
     "output_type": "execute_result"
    }
   ],
   "source": [
    "svm_cv_acc"
   ]
  },
  {
   "cell_type": "markdown",
   "metadata": {},
   "source": [
    "**Запишите в файл *answer4_4.txt* доли правильных ответов для svm_grid_searcher2 на кросс-валидации для лучшего значения параметра С и на отложенной выборке. Округлите каждое до 3 знаков после запятой и запишите в файл через пробел.**"
   ]
  },
  {
   "cell_type": "code",
   "execution_count": 92,
   "metadata": {
    "collapsed": true
   },
   "outputs": [],
   "source": [
    "write_answer_to_file(\"{} {}\".format(round(svm_grid_searcher2.best_score_, 3), \n",
    "                                    round(svm_cv_acc, 3)),\n",
    "                     'answer4_4.txt')"
   ]
  },
  {
   "cell_type": "markdown",
   "metadata": {},
   "source": [
    "## Часть 2. Выбор параметров – длины сессии и ширины окна"
   ]
  },
  {
   "cell_type": "markdown",
   "metadata": {},
   "source": [
    "**Возьмем LinearSVC, показавший лучшее качество на кросс-валидации в 1 части и проверим его работу еще на 8 выборках для 10 пользователей (с разными сочетаниями параметров *session_length* и *window_size*). Поскольку тут уже вычислений побольше, мы не будем каждый раз заново подбирать параметр регуляризации C.**\n",
    "\n",
    "**Определите функцию model_assessment, ее документация описана ниже. Обратите внимание на все детали. Например, на то, что разбиение  выборки с train_test_split должно быть стратифицированным. Не теряйте нигде random_state.**"
   ]
  },
  {
   "cell_type": "code",
   "execution_count": 25,
   "metadata": {
    "collapsed": false
   },
   "outputs": [],
   "source": [
    "def model_assessment(estimator, path_to_X_pickle, path_to_y_pickle, cv, \n",
    "                     random_state=7, test_size=0.3):\n",
    "    '''\n",
    "    Estimates CV-accuracy for (1 - test_size) share of (X_sparse, y) \n",
    "    loaded from path_to_X_pickle and path_to_y_pickle and holdout accuracy for (test_size) share of (X_sparse, y).\n",
    "    The split is made with stratified train_test_split with params random_state and test_size.\n",
    "    \n",
    "    :param estimator – Scikit-learn estimator (classifier or regressor)\n",
    "    :param path_to_X_pickle – path to pickled sparse X (instances and their features)\n",
    "    :param path_to_y_pickle – path to pickled y (responses)\n",
    "    :param cv – cross-validation as in cross_val_score (use StratifiedKFold here)\n",
    "    :param random_state –  for train_test_split\n",
    "    :param test_size –  for train_test_split\n",
    "    \n",
    "    :returns mean CV-accuracy for (X_train, y_train) and accuracy for (X_valid, y_valid) where (X_train, y_train)\n",
    "    and (X_valid, y_valid) are (1 - test_size) and (testsize) shares of (X_sparse, y).\n",
    "    '''\n",
    "    t_start = time()\n",
    "    # Loading data\n",
    "    with open(path_to_X_pickle, 'rb') as fid:\n",
    "        X_sparse = pickle.load(fid)\n",
    "    with open(path_to_y_pickle, 'rb') as fid:\n",
    "        y = pickle.load(fid)\n",
    "    #print(X_sparse.shape)\n",
    "    # Spliting on train and validation\n",
    "    X_train, X_valid, y_train, y_valid = train_test_split(X_sparse, y, \n",
    "                                                          test_size=test_size, \n",
    "                                                          random_state=random_state,\n",
    "                                                          stratify=y)\n",
    "    \n",
    "    # Cross_validation extimation\n",
    "    scores = cross_val_score(estimator, X_train, y_train, cv=cv, n_jobs=-1)\n",
    "    # Model fitting\n",
    "    estimator.fit(X_train, y_train)\n",
    "    # Accuracy score on validation set\n",
    "    acc_score = accuracy_score(y_valid, estimator.predict(X_valid))\n",
    "    \n",
    "    return scores.mean(), acc_score, time() - t_start"
   ]
  },
  {
   "cell_type": "markdown",
   "metadata": {},
   "source": [
    "**Убедитесь, что функция работает.**"
   ]
  },
  {
   "cell_type": "code",
   "execution_count": 26,
   "metadata": {
    "collapsed": false
   },
   "outputs": [
    {
     "data": {
      "text/plain": [
       "(0.73727543146114261, 0.76184411614875192, 2.1619999408721924)"
      ]
     },
     "execution_count": 26,
     "metadata": {},
     "output_type": "execute_result"
    }
   ],
   "source": [
    "model_assessment(svm_grid_searcher2.best_estimator_, \n",
    "                 'capstone_websites_data/X_sparse_10users.pkl',\n",
    "                 'capstone_websites_data/y_10users.pkl', skf, random_state=7, test_size=0.3)"
   ]
  },
  {
   "cell_type": "markdown",
   "metadata": {},
   "source": [
    "**Примените функцию *model_assessment* для лучшего алгоритма из предыдущей части (а именно, svm\\_grid\\_searcher2.best\\_estimator\\_) и 9 выборок вида с разными сочетаниями параметров *session_length* и *window_size* для 10 пользователей. Выведите в цикле параметры *session_length* и *window_size*, а также результат вывода функции *model_assessment*. \n",
    "Удобно сделать так, чтоб *model_assessment* возвращала 3-им элементом время, за которое она выполнилась. На моем скромном маке этот участок кода выполнился за 20 секунд. Но со 150 пользователями каждая итерация занимает уже несколько минут.**"
   ]
  },
  {
   "cell_type": "code",
   "execution_count": null,
   "metadata": {
    "collapsed": false
   },
   "outputs": [
    {
     "name": "stdout",
     "output_type": "stream",
     "text": [
      "Session length: 15, Window size: 10\n",
      "(0.80436299001715328, 0.82271944922547335, 3.1539998054504395)\n",
      "Session length: 10, Window size: 10\n"
     ]
    }
   ],
   "source": [
    "%%time\n",
    "estimator = svm_grid_searcher2.best_estimator_\n",
    "\n",
    "for window_size, session_length in itertools.product([10, 7, 5], [15, 10, 7, 5]):\n",
    "    if window_size <= session_length and (window_size, session_length):\n",
    "        path_to_X_pkl = 'capstone_websites_data/X_sparse_10users_s' + \\\n",
    "                        str(session_length) + '_w' + str(window_size) + '.pkl'\n",
    "        path_to_y_pkl = 'capstone_websites_data/y_10users_s' + \\\n",
    "                        str(session_length) + '_w' + str(window_size) + '.pkl'\n",
    "        print(\"Session length: {}, Window size: {}\".format(session_length, window_size))\n",
    "        print(model_assessment(estimator, path_to_X_pkl, path_to_y_pkl, skf, random_state=7, test_size=0.3))"
   ]
  },
  {
   "cell_type": "markdown",
   "metadata": {},
   "source": [
    "**Запишите в файл *answer4_5.txt* доли правильных ответов для LinearSVC с настроенным параметром C и выборки *X_sparse_10users_s15_w5*. Укажите доли правильных ответов на кросс-валидации и на отложенной выборке. Округлите каждое до 3 знаков после запятой и запишите в файл через пробел.**"
   ]
  },
  {
   "cell_type": "code",
   "execution_count": 103,
   "metadata": {
    "collapsed": true
   },
   "outputs": [],
   "source": [
    "cv_score, accur_score, _ = model_assessment(svm_grid_searcher2.best_estimator_, \n",
    "                                     'capstone_websites_data/X_sparse_10users_s15_w5.pkl',\n",
    "                                     'capstone_websites_data/y_10users_s15_w5.pkl', skf, random_state=7, test_size=0.3)"
   ]
  },
  {
   "cell_type": "code",
   "execution_count": 106,
   "metadata": {
    "collapsed": false
   },
   "outputs": [
    {
     "name": "stdout",
     "output_type": "stream",
     "text": [
      "0.853099195254 0.854840709062\n"
     ]
    }
   ],
   "source": [
    "print(cv_score, accur_score)"
   ]
  },
  {
   "cell_type": "code",
   "execution_count": 104,
   "metadata": {
    "collapsed": true
   },
   "outputs": [],
   "source": [
    "write_answer_to_file(\"{} {}\".format(round(cv_score,3), round(accur_score,3)), \n",
    "                     'answer4_5.txt')"
   ]
  },
  {
   "cell_type": "markdown",
   "metadata": {},
   "source": [
    "**Прокомментируйте полученные результаты. Сравните для 150 пользователей доли правильных ответов на кросс-валидации и оставленной выборке для сочетаний параметров (*session_length, window_size*): (5,5), (7,7) и (10,10). На среднем ноуте это может занять до часа – запаситесь терпением, это Data Science :) **\n",
    "\n",
    "**Сделайте вывод о том, как качество классификации зависит от длины сессии и ширины окна.**"
   ]
  },
  {
   "cell_type": "code",
   "execution_count": 108,
   "metadata": {
    "collapsed": false
   },
   "outputs": [
    {
     "name": "stdout",
     "output_type": "stream",
     "text": [
      "Session length: 5, Window size: 5\n",
      "(0.36404389655716818, 0.37600694882248281, 173.4190001487732)\n",
      "Session length: 7, Window size: 7\n",
      "(0.39783864020327425, 0.41213569918175968, 156.85199999809265)\n",
      "Session length: 10, Window size: 10\n",
      "(0.42888083119131698, 0.44566214700784995, 174.4779999256134)\n",
      "Wall time: 8min 24s\n"
     ]
    }
   ],
   "source": [
    "%%time\n",
    "estimator = svm_grid_searcher2.best_estimator_\n",
    "\n",
    "for window_size, session_length in [(5,5), (7,7), (10,10)]:\n",
    "    if window_size <= session_length and (window_size, session_length):\n",
    "        path_to_X_pkl = 'capstone_websites_data/X_sparse_150users_s' + \\\n",
    "                        str(session_length) + '_w' + str(window_size) + '.pkl'\n",
    "        path_to_y_pkl = 'capstone_websites_data/y_150users_s' + \\\n",
    "                        str(session_length) + '_w' + str(window_size) + '.pkl'\n",
    "        \n",
    "        print(\"Session length: {}, Window size: {}\".format(session_length, window_size))\n",
    "        print(model_assessment(estimator, path_to_X_pkl, path_to_y_pkl, skf, random_state=7, test_size=0.3)) "
   ]
  },
  {
   "cell_type": "markdown",
   "metadata": {},
   "source": [
    "**Запишите в файл *answer4_6.txt* доли правильных ответов для LinearSVC с настроенным параметром C и выборки *X_sparse_150users*. Укажите доли правильных ответов на кросс-валидации и на отложенной выборке. Округлите каждое до 3 знаков после запятой и запишите в файл через пробел.**"
   ]
  },
  {
   "cell_type": "code",
   "execution_count": 110,
   "metadata": {
    "collapsed": true
   },
   "outputs": [],
   "source": [
    "write_answer_to_file(\"{} {}\".format(round(0.42888083119131698,3), round(0.44566214700784995,3)), \n",
    "                     'answer4_6.txt')"
   ]
  },
  {
   "cell_type": "markdown",
   "metadata": {},
   "source": [
    "## Часть 3. Идентификация  конкретного пользователя и кривые обучения"
   ]
  },
  {
   "cell_type": "markdown",
   "metadata": {},
   "source": [
    "**Поскольку может разочаровать, что многоклассовая доля правильных ответов на выборке из 150 пользовалей невелика, порадуемся тому, что конкретного пользователя можно идентифицировать достаточно хорошо. **"
   ]
  },
  {
   "cell_type": "markdown",
   "metadata": {},
   "source": [
    "**Загрузим сериализованные ранее объекты *X_sparse_150users* и *y_150users*, соответствующие обучающей выборке для 10 пользователей с параметрами (*session_length, window_size*) = (10,10). Так же точно разобьем их на 70% и 30%.**"
   ]
  },
  {
   "cell_type": "code",
   "execution_count": 111,
   "metadata": {
    "collapsed": true
   },
   "outputs": [],
   "source": [
    "with open('capstone_websites_data/X_sparse_150users.pkl', 'rb') as X_sparse_150users_pkl:\n",
    "     X_sparse_150users = pickle.load(X_sparse_150users_pkl)\n",
    "with open('capstone_websites_data/y_150users.pkl', 'rb') as y_150users_pkl:\n",
    "    y_150users = pickle.load(y_150users_pkl)"
   ]
  },
  {
   "cell_type": "code",
   "execution_count": 112,
   "metadata": {
    "collapsed": true
   },
   "outputs": [],
   "source": [
    "X_train_150, X_valid_150, y_train_150, y_valid_150 = train_test_split(X_sparse_150users, \n",
    "                                                                      y_150users, test_size=0.3, \n",
    "                                                                      random_state=7, stratify=y_150users)"
   ]
  },
  {
   "cell_type": "markdown",
   "metadata": {},
   "source": [
    "**Обучите LogisticRegressionCV для одного значения параметра C (лучшего на кросс-валидации в 1 части, используйте точное значение, не на глаз). Теперь будем решать 150 задач \"Один-против-Всех\", поэтому укажите аргумент multi_class='ovr'. Как всегда, где возможно, указывайте n_jobs=-1 и random_state=7.**"
   ]
  },
  {
   "cell_type": "code",
   "execution_count": 163,
   "metadata": {
    "collapsed": false
   },
   "outputs": [
    {
     "data": {
      "text/plain": [
       "0.68996551724137933"
      ]
     },
     "execution_count": 163,
     "metadata": {},
     "output_type": "execute_result"
    }
   ],
   "source": [
    "C_opt = logit_grid_searcher2.Cs_[logit_mean_cv_scores2.argmax()]\n",
    "C_opt2 = logit_grid_searcher2.Cs_[logit_mean_cv_scores2.argmax()]\n",
    "C_opt"
   ]
  },
  {
   "cell_type": "code",
   "execution_count": 165,
   "metadata": {
    "collapsed": false
   },
   "outputs": [
    {
     "name": "stdout",
     "output_type": "stream",
     "text": [
      "Wall time: 13min 23s\n"
     ]
    }
   ],
   "source": [
    "%%time\n",
    "logit_cv_150users = LogisticRegressionCV(Cs=[C_opt], cv=skf, random_state=7, n_jobs=-1, multi_class='ovr')\n",
    "logit_cv_150users.fit(X_train_150, y_train_150)"
   ]
  },
  {
   "cell_type": "markdown",
   "metadata": {},
   "source": [
    "**Посмотрите на средние доли правильных ответов на кросс-валидации в задаче идентификации каждого пользователя по отдельности.**"
   ]
  },
  {
   "cell_type": "code",
   "execution_count": 166,
   "metadata": {
    "collapsed": false
   },
   "outputs": [
    {
     "name": "stdout",
     "output_type": "stream",
     "text": [
      "User 515, CV score: 0.99409047725\n",
      "User 2902, CV score: 0.996668361549\n",
      "User 6, CV score: 0.995739972451\n",
      "User 13, CV score: 0.996198851281\n",
      "User 15, CV score: 0.994920630834\n",
      "User 16, CV score: 0.991316609688\n",
      "User 533, CV score: 0.993642853621\n",
      "User 28, CV score: 0.989404915446\n",
      "User 1054, CV score: 0.996340828337\n",
      "User 31, CV score: 0.994243565885\n",
      "User 33, CV score: 0.993282117551\n",
      "User 1371, CV score: 0.992987298385\n",
      "User 39, CV score: 0.987111062147\n",
      "User 46, CV score: 0.997837373236\n",
      "User 49, CV score: 0.995106508496\n",
      "User 50, CV score: 0.994407431058\n",
      "User 563, CV score: 0.996810505172\n",
      "User 564, CV score: 0.995576407317\n",
      "User 53, CV score: 0.993445903193\n",
      "User 568, CV score: 0.992342985128\n",
      "User 569, CV score: 0.989710501739\n",
      "User 570, CV score: 0.998132336024\n",
      "User 573, CV score: 0.990934028864\n",
      "User 575, CV score: 0.989808407812\n",
      "User 576, CV score: 0.994418415621\n",
      "User 65, CV score: 0.996810578675\n",
      "User 66, CV score: 0.994593271385\n",
      "User 580, CV score: 0.985865483721\n",
      "User 2118, CV score: 0.997247386214\n",
      "User 583, CV score: 0.980808494868\n",
      "User 584, CV score: 0.980666247602\n",
      "User 82, CV score: 0.996111347465\n",
      "User 85, CV score: 0.996045818064\n",
      "User 600, CV score: 0.991862359159\n",
      "User 89, CV score: 0.990256824843\n",
      "User 603, CV score: 0.995423303981\n",
      "User 92, CV score: 0.99469136592\n",
      "User 605, CV score: 0.997072565879\n",
      "User 1040, CV score: 0.996635755696\n",
      "User 100, CV score: 0.994964407807\n",
      "User 102, CV score: 0.991010412428\n",
      "User 103, CV score: 0.979617596231\n",
      "User 105, CV score: 0.996559307301\n",
      "User 106, CV score: 0.99410153796\n",
      "User 118, CV score: 0.990519089452\n",
      "User 119, CV score: 0.996537708645\n",
      "User 120, CV score: 0.993861404182\n",
      "User 126, CV score: 0.994778836212\n",
      "User 127, CV score: 0.990846386715\n",
      "User 128, CV score: 0.985603769372\n",
      "User 875, CV score: 0.994375012929\n",
      "User 647, CV score: 0.997105198489\n",
      "User 138, CV score: 0.997170991333\n",
      "User 653, CV score: 0.997323893411\n",
      "User 2191, CV score: 0.995073746226\n",
      "User 664, CV score: 0.995030093625\n",
      "User 665, CV score: 0.99689803765\n",
      "User 158, CV score: 0.996963398578\n",
      "User 160, CV score: 0.996690235704\n",
      "User 165, CV score: 0.997356582917\n",
      "User 172, CV score: 0.996198670752\n",
      "User 177, CV score: 0.996373688961\n",
      "User 692, CV score: 0.996854258033\n",
      "User 1993, CV score: 0.996679213067\n",
      "User 697, CV score: 0.995674472451\n",
      "User 705, CV score: 0.996460958734\n",
      "User 785, CV score: 0.996974290815\n",
      "User 2250, CV score: 0.997236455165\n",
      "User 203, CV score: 0.997269148054\n",
      "User 207, CV score: 0.986958040987\n",
      "User 722, CV score: 0.994560277717\n",
      "User 1797, CV score: 0.994221175733\n",
      "User 223, CV score: 0.996493769228\n",
      "User 1248, CV score: 0.997553324153\n",
      "User 740, CV score: 0.996515450798\n",
      "User 741, CV score: 0.996701370655\n",
      "User 233, CV score: 0.996428062681\n",
      "User 235, CV score: 0.996723146457\n",
      "User 236, CV score: 0.989470553779\n",
      "User 237, CV score: 0.988672578993\n",
      "User 238, CV score: 0.996013167371\n",
      "User 240, CV score: 0.995521579046\n",
      "User 241, CV score: 0.995871030514\n",
      "User 242, CV score: 0.994735045278\n",
      "User 1267, CV score: 0.997225713317\n",
      "User 756, CV score: 0.995969343652\n",
      "User 245, CV score: 0.995761833811\n",
      "User 246, CV score: 0.996875928286\n",
      "User 249, CV score: 0.994898955292\n",
      "User 252, CV score: 0.996198685452\n",
      "User 254, CV score: 0.991938468702\n",
      "User 256, CV score: 0.996012925395\n",
      "User 640, CV score: 0.997028992809\n",
      "User 258, CV score: 0.996122281159\n",
      "User 259, CV score: 0.99499725373\n",
      "User 260, CV score: 0.997083499574\n",
      "User 261, CV score: 0.989306445891\n",
      "User 1798, CV score: 0.996067863337\n",
      "User 263, CV score: 0.992583243277\n",
      "User 264, CV score: 0.996427962422\n",
      "User 780, CV score: 0.996155038879\n",
      "User 269, CV score: 0.987034887774\n",
      "User 270, CV score: 0.988574418149\n",
      "User 784, CV score: 0.996318886707\n",
      "User 273, CV score: 0.994658558071\n",
      "User 1299, CV score: 0.996810495761\n",
      "User 797, CV score: 0.995445195482\n",
      "User 287, CV score: 0.990224055806\n",
      "User 294, CV score: 0.995740025225\n",
      "User 561, CV score: 0.986149575\n",
      "User 298, CV score: 0.990715349381\n",
      "User 812, CV score: 0.994494692159\n",
      "User 301, CV score: 0.996985372992\n",
      "User 2355, CV score: 0.995248527748\n",
      "User 308, CV score: 0.995357582734\n",
      "User 315, CV score: 0.997280155251\n",
      "User 318, CV score: 0.995576017597\n",
      "User 2174, CV score: 0.995608854847\n",
      "User 327, CV score: 0.996471856999\n",
      "User 332, CV score: 0.996526511508\n",
      "User 333, CV score: 0.995816225616\n",
      "User 339, CV score: 0.997006947536\n",
      "User 340, CV score: 0.99647190184\n",
      "User 342, CV score: 0.991949697885\n",
      "User 344, CV score: 0.996602862288\n",
      "User 859, CV score: 0.997869868252\n",
      "User 351, CV score: 0.99212479298\n",
      "User 356, CV score: 0.997400188033\n",
      "User 2408, CV score: 0.993227696345\n",
      "User 361, CV score: 0.996460873175\n",
      "User 363, CV score: 0.99640641654\n",
      "User 2625, CV score: 0.995750770457\n",
      "User 411, CV score: 0.990267852768\n",
      "User 417, CV score: 0.996624851403\n",
      "User 932, CV score: 0.989742783441\n",
      "User 425, CV score: 0.994145282148\n",
      "User 430, CV score: 0.995860426999\n",
      "User 435, CV score: 0.997028865793\n",
      "User 436, CV score: 0.994953606418\n",
      "User 440, CV score: 0.996963321692\n",
      "User 444, CV score: 0.99758614332\n",
      "User 2493, CV score: 0.996439262463\n",
      "User 844, CV score: 0.997039870345\n",
      "User 868, CV score: 0.99659200548\n",
      "User 475, CV score: 0.988902153357\n",
      "User 476, CV score: 0.996755871392\n",
      "User 677, CV score: 0.996471833626\n",
      "User 996, CV score: 0.992518095662\n",
      "User 486, CV score: 0.995477854848\n",
      "User 1014, CV score: 0.996919651745\n"
     ]
    }
   ],
   "source": [
    "cv_scores_by_user = logit_cv_150users.scores_\n",
    "for user_id in logit_cv_150users.scores_:\n",
    "    print('User {}, CV score: {}'.format(user_id, cv_scores_by_user[user_id].mean()))"
   ]
  },
  {
   "cell_type": "markdown",
   "metadata": {},
   "source": [
    "**Результаты кажутся впечатляющими, но возможно, мы забываем про дисбаланс классов, и высокую долю правильных ответов можно получить константным прогнозом. Посчитайте для каждого пользователя разницу между долей правильных ответов на кросс-валидации (только что посчитанную с помощью LogisticRegressionCV) и долей меток в *y_train_150*, отличных от ID \n",
    " этого пользователя (именно такую долю правильных ответов можно получить, если классификатор всегда \"говорит\", что это не пользователь с номером $i$ в задаче классификации $i$-vs-All).**"
   ]
  },
  {
   "cell_type": "code",
   "execution_count": 167,
   "metadata": {
    "collapsed": false
   },
   "outputs": [
    {
     "data": {
      "text/plain": [
       "(2903L,)"
      ]
     },
     "execution_count": 167,
     "metadata": {},
     "output_type": "execute_result"
    }
   ],
   "source": [
    "np.bincount(y_train_150.astype('int')).shape"
   ]
  },
  {
   "cell_type": "code",
   "execution_count": 197,
   "metadata": {
    "collapsed": false
   },
   "outputs": [
    {
     "data": {
      "text/plain": [
       "0.98814855270344071"
      ]
     },
     "execution_count": 197,
     "metadata": {},
     "output_type": "execute_result"
    }
   ],
   "source": [
    "(class_distr.sum() - class_distr[6])/class_distr.sum()"
   ]
  },
  {
   "cell_type": "code",
   "execution_count": 194,
   "metadata": {
    "collapsed": false
   },
   "outputs": [
    {
     "data": {
      "text/plain": [
       "1638"
      ]
     },
     "execution_count": 194,
     "metadata": {},
     "output_type": "execute_result"
    }
   ],
   "source": [
    "class_distr[128]"
   ]
  },
  {
   "cell_type": "code",
   "execution_count": 184,
   "metadata": {
    "collapsed": false
   },
   "outputs": [
    {
     "name": "stdout",
     "output_type": "stream",
     "text": [
      "0.988148552703\n",
      "User: 6 difference: 0.00759141974769\n",
      "0.995565264883\n",
      "User: 13 difference: 0.00063358639808\n",
      "0.994232659749\n",
      "User: 15 difference: 0.000687971085365\n",
      "0.984128891316\n",
      "User: 16 difference: 0.0071877183716\n",
      "0.987777170945\n",
      "User: 28 difference: 0.00162774450162\n",
      "0.994254505735\n",
      "User: 31 difference: -1.09398496981e-05\n",
      "0.992408519934\n",
      "User: 33 difference: 0.000873597616501\n",
      "0.984980884762\n",
      "User: 39 difference: 0.00213017738451\n",
      "0.99698525396\n",
      "User: 46 difference: 0.000852119276796\n",
      "0.993719279082\n",
      "User: 49 difference: 0.00138722941311\n",
      "0.994287274713\n",
      "User: 50 difference: 0.000120156344894\n",
      "0.991927908247\n",
      "User: 53 difference: 0.00151799494662\n",
      "0.996788640087\n",
      "User: 65 difference: 2.19385877398e-05\n",
      "0.994625887493\n",
      "User: 66 difference: -3.26161083155e-05\n",
      "0.996187875478\n",
      "User: 82 difference: -7.65280126226e-05\n",
      "0.996034953577\n",
      "User: 85 difference: 1.08644870733e-05\n",
      "0.989819770617\n",
      "User: 89 difference: 0.000437054225466\n",
      "0.994516657564\n",
      "User: 92 difference: 0.000174708356204\n",
      "0.995040961223\n",
      "User: 100 difference: -7.65534167073e-05\n",
      "0.990223921354\n",
      "User: 102 difference: 0.000786491073581\n",
      "0.976231567449\n",
      "User: 103 difference: 0.00338602878104\n",
      "0.995827416712\n",
      "User: 105 difference: 0.000731890589034\n",
      "0.986848716548\n",
      "User: 106 difference: 0.00725282141149\n",
      "0.989863462589\n",
      "User: 118 difference: 0.000655626863026\n",
      "0.995783724741\n",
      "User: 119 difference: 0.00075398390471\n",
      "0.993468050246\n",
      "User: 120 difference: 0.000393353936389\n",
      "0.994112506827\n",
      "User: 126 difference: 0.000666329385438\n",
      "0.987373020208\n",
      "User: 127 difference: 0.00347336650785\n",
      "0.98210813763\n",
      "User: 128 difference: 0.00349563174196\n",
      "0.99698525396\n",
      "User: 138 difference: 0.000185737373337\n",
      "0.996734025123\n",
      "User: 158 difference: 0.000229373454974\n",
      "0.99638448935\n",
      "User: 160 difference: 0.000305746353598\n",
      "0.996952484981\n",
      "User: 165 difference: 0.000404097936048\n",
      "0.996100491535\n",
      "User: 172 difference: 9.81792169686e-05\n",
      "0.996329874386\n",
      "User: 177 difference: 4.38145750614e-05\n",
      "0.996111414528\n",
      "User: 203 difference: 0.00115773352653\n",
      "0.985832878209\n",
      "User: 207 difference: 0.00112516277801\n",
      "0.996417258329\n",
      "User: 223 difference: 7.65108989749e-05\n",
      "0.996187875478\n",
      "User: 233 difference: 0.000240187203417\n",
      "0.996777717094\n",
      "User: 235 difference: -5.45706376326e-05\n",
      "0.988421627526\n",
      "User: 236 difference: 0.0010489262533\n",
      "0.987678864009\n",
      "User: 237 difference: 0.000993714984026\n",
      "0.996100491535\n",
      "User: 238 difference: -8.73241637172e-05\n",
      "0.995598033861\n",
      "User: 240 difference: -7.64548154506e-05\n",
      "0.996002184599\n",
      "User: 241 difference: -0.000131154084547\n",
      "0.994527580557\n",
      "User: 242 difference: 0.000207464721055\n",
      "0.995750955762\n",
      "User: 245 difference: 1.08780495037e-05\n",
      "0.99698525396\n",
      "User: 246 difference: -0.00010932567366\n",
      "0.99487711633\n",
      "User: 249 difference: 2.18389621131e-05\n",
      "0.99612233752\n",
      "User: 252 difference: 7.63479317228e-05\n",
      "0.989797924631\n",
      "User: 254 difference: 0.00214054407042\n",
      "0.995423265975\n",
      "User: 256 difference: 0.000589659420313\n",
      "0.996176952485\n",
      "User: 258 difference: -5.46713255941e-05\n",
      "0.995117422174\n",
      "User: 259 difference: -0.000120168444055\n",
      "0.99713817586\n",
      "User: 260 difference: -5.46762866576e-05\n",
      "0.988825778263\n",
      "User: 261 difference: 0.000480667628031\n",
      "0.991720371382\n",
      "User: 263 difference: 0.000862871894997\n",
      "0.996089568542\n",
      "User: 264 difference: 0.000338393880187\n",
      "0.985931185145\n",
      "User: 269 difference: 0.00110370262916\n",
      "0.984740578919\n",
      "User: 270 difference: 0.00383383923059\n",
      "0.994527580557\n",
      "User: 273 difference: 0.000130977514011\n",
      "0.98847624249\n",
      "User: 287 difference: 0.00174781331544\n",
      "0.995783724741\n",
      "User: 294 difference: -4.3699515237e-05\n",
      "0.989972692518\n",
      "User: 298 difference: 0.000742656863285\n",
      "0.995783724741\n",
      "User: 301 difference: 0.00120164825177\n",
      "0.994756963408\n",
      "User: 308 difference: 0.000600619326313\n",
      "0.99698525396\n",
      "User: 315 difference: 0.000294901291426\n",
      "0.99521572911\n",
      "User: 318 difference: 0.000360288486925\n",
      "0.996515565265\n",
      "User: 327 difference: -4.37082659498e-05\n",
      "0.996668487165\n",
      "User: 332 difference: -0.000141975657558\n",
      "0.995150191152\n",
      "User: 333 difference: 0.000666034463669\n",
      "0.995794647733\n",
      "User: 339 difference: 0.00121229980279\n",
      "0.996340797378\n",
      "User: 340 difference: 0.000131104461018\n",
      "0.991556526488\n",
      "User: 342 difference: 0.000393171396535\n",
      "0.996734025123\n",
      "User: 344 difference: -0.00013116283526\n",
      "0.990682687056\n",
      "User: 351 difference: 0.00144210592376\n",
      "0.997094483889\n",
      "User: 356 difference: 0.000305704144423\n",
      "0.996493719279\n",
      "User: 361 difference: -3.28461039432e-05\n",
      "0.995073730202\n",
      "User: 363 difference: 0.00133268633818\n",
      "0.989033315128\n",
      "User: 411 difference: 0.00123453763973\n",
      "0.996493719279\n",
      "User: 417 difference: 0.00013113212359\n",
      "0.994025122884\n",
      "User: 425 difference: 0.000120159264124\n",
      "0.995073730202\n",
      "User: 430 difference: 0.000786696796928\n",
      "0.997018022938\n",
      "User: 435 difference: 1.08428548069e-05\n",
      "0.994789732387\n",
      "User: 436 difference: 0.000163874030853\n",
      "0.996952484981\n",
      "User: 440 difference: 1.08367107483e-05\n",
      "0.996897870016\n",
      "User: 444 difference: 0.0006882733032\n",
      "0.988694702348\n",
      "User: 475 difference: 0.000207451008622\n",
      "0.996034953577\n",
      "User: 476 difference: 0.000720917814637\n",
      "0.995423265975\n",
      "User: 486 difference: 5.45888726322e-05\n",
      "0.993894046969\n",
      "User: 515 difference: 0.000196430280937\n",
      "0.992463134899\n",
      "User: 533 difference: 0.00117971872199\n",
      "0.985701802294\n",
      "User: 561 difference: 0.00044777270663\n",
      "0.996821409066\n",
      "User: 563 difference: -1.09038937309e-05\n",
      "0.995062807209\n",
      "User: 564 difference: 0.000513600107746\n",
      "0.992517749863\n",
      "User: 568 difference: -0.000174764735716\n",
      "0.985308574549\n",
      "User: 569 difference: 0.00440192718938\n",
      "0.995991261606\n",
      "User: 570 difference: 0.00214107441837\n",
      "0.991064991808\n",
      "User: 573 difference: -0.000130962943983\n",
      "0.988421627526\n",
      "User: 575 difference: 0.00138678028573\n",
      "0.994494811578\n",
      "User: 576 difference: -7.63959575084e-05\n",
      "0.980589841617\n",
      "User: 580 difference: 0.00527564210465\n",
      "0.966947023484\n",
      "User: 583 difference: 0.013861471384\n",
      "0.978099399235\n",
      "User: 584 difference: 0.00256684836645\n",
      "0.991163298744\n",
      "User: 600 difference: 0.000699060415087\n",
      "0.994844347351\n",
      "User: 603 difference: 0.000578956630126\n",
      "0.994866193337\n",
      "User: 605 difference: 0.00220637254243\n",
      "0.996952484981\n",
      "User: 640 difference: 7.65078280968e-05\n",
      "0.995860185691\n",
      "User: 647 difference: 0.0012450127979\n",
      "0.997116329874\n",
      "User: 653 difference: 0.000207563536592\n",
      "0.994483888585\n",
      "User: 664 difference: 0.000546205039098\n",
      "0.996515565265\n",
      "User: 665 difference: 0.000382472385073\n",
      "0.995783724741\n",
      "User: 677 difference: 0.000688108885248\n",
      "0.996734025123\n",
      "User: 692 difference: 0.000120232909991\n",
      "0.995117422174\n",
      "User: 697 difference: 0.000557050277656\n",
      "0.996056799563\n",
      "User: 705 difference: 0.000404159170835\n",
      "0.993413435281\n",
      "User: 722 difference: 0.00114684243619\n",
      "0.995674494812\n",
      "User: 740 difference: 0.00084095598633\n",
      "0.996777717094\n",
      "User: 741 difference: -7.6346439111e-05\n",
      "0.995565264883\n",
      "User: 756 difference: 0.000404078769642\n",
      "0.995696340797\n",
      "User: 780 difference: 0.000458698081636\n",
      "0.995401419989\n",
      "User: 784 difference: 0.000917466718127\n",
      "0.996974330967\n",
      "User: 785 difference: -4.01518124304e-08\n",
      "0.994997269252\n",
      "User: 797 difference: 0.000447926229792\n",
      "0.9890770071\n",
      "User: 812 difference: 0.00541768505894\n",
      "0.996854178045\n",
      "User: 844 difference: 0.000185692300658\n",
      "0.996930638995\n",
      "User: 859 difference: 0.000939229256594\n",
      "0.996635718187\n",
      "User: 868 difference: -4.37127070637e-05\n",
      "0.989721463681\n",
      "User: 875 difference: 0.00465354924804\n",
      "0.987788093938\n",
      "User: 932 difference: 0.0019546895028\n",
      "0.990070999454\n",
      "User: 996 difference: 0.00244709620857\n",
      "0.995652648826\n",
      "User: 1014 difference: 0.00126700291956\n",
      "0.995674494812\n",
      "User: 1040 difference: 0.000961260884114\n",
      "0.996198798471\n",
      "User: 1054 difference: 0.000142029866355\n",
      "0.99721463681\n",
      "User: 1248 difference: 0.000338687342705\n",
      "0.996886947023\n",
      "User: 1267 difference: 0.000338766293199\n",
      "0.996701256144\n",
      "User: 1299 difference: 0.000109239616713\n",
      "0.988421627526\n",
      "User: 1371 difference: 0.00456567085944\n",
      "0.991414527581\n",
      "User: 1797 difference: 0.00280664815195\n",
      "0.995248498088\n",
      "User: 1798 difference: 0.000819365248593\n",
      "0.996013107591\n",
      "User: 1993 difference: 0.000666105475841\n",
      "0.996166029492\n",
      "User: 2118 difference: 0.0010813567222\n",
      "0.995139268159\n",
      "User: 2174 difference: 0.000469586687626\n",
      "0.994625887493\n",
      "User: 2191 difference: 0.000447858732589\n",
      "0.997312943747\n",
      "User: 2250 difference: -7.64885818838e-05\n",
      "0.987318405243\n",
      "User: 2355 difference: 0.00793012250504\n",
      "0.992080830147\n",
      "User: 2408 difference: 0.00114686619773\n",
      "0.996155106499\n",
      "User: 2493 difference: 0.000284155964029\n",
      "0.995335882032\n",
      "User: 2625 difference: 0.000414888425139\n",
      "0.994833424358\n",
      "User: 2902 difference: 0.00183493719024\n"
     ]
    }
   ],
   "source": [
    "class_distr = np.bincount(y_train_150.astype('int'))\n",
    "acc_diff_vs_constant = []\n",
    "for user_id in np.unique(y_train_150):\n",
    "    val = (class_distr.sum() - class_distr[user_id])/class_distr.sum()\n",
    "    print(val)\n",
    "    acc_diff_vs_constant.append(cv_scores_by_user[user_id].mean() - val)\n",
    "    print(\"User: {} difference: {}\".format(user_id, cv_scores_by_user[user_id].mean() -\\\n",
    "                                           val))"
   ]
  },
  {
   "cell_type": "code",
   "execution_count": 139,
   "metadata": {
    "collapsed": false
   },
   "outputs": [
    {
     "ename": "AttributeError",
     "evalue": "'list' object has no attribute 'values'",
     "output_type": "error",
     "traceback": [
      "\u001b[1;31m---------------------------------------------------------------------------\u001b[0m",
      "\u001b[1;31mAttributeError\u001b[0m                            Traceback (most recent call last)",
      "\u001b[1;32m<ipython-input-139-3ef515c9cda8>\u001b[0m in \u001b[0;36m<module>\u001b[1;34m()\u001b[0m\n\u001b[1;32m----> 1\u001b[1;33m \u001b[0mnum_better_than_default\u001b[0m \u001b[1;33m=\u001b[0m \u001b[1;33m(\u001b[0m\u001b[0mnp\u001b[0m\u001b[1;33m.\u001b[0m\u001b[0marray\u001b[0m\u001b[1;33m(\u001b[0m\u001b[0mlist\u001b[0m\u001b[1;33m(\u001b[0m\u001b[0macc_diff_vs_constant\u001b[0m\u001b[1;33m.\u001b[0m\u001b[0mvalues\u001b[0m\u001b[1;33m(\u001b[0m\u001b[1;33m)\u001b[0m\u001b[1;33m)\u001b[0m\u001b[1;33m)\u001b[0m \u001b[1;33m>\u001b[0m \u001b[1;36m0\u001b[0m\u001b[1;33m)\u001b[0m\u001b[1;33m.\u001b[0m\u001b[0msum\u001b[0m\u001b[1;33m(\u001b[0m\u001b[1;33m)\u001b[0m\u001b[1;33m\u001b[0m\u001b[0m\n\u001b[0m",
      "\u001b[1;31mAttributeError\u001b[0m: 'list' object has no attribute 'values'"
     ]
    }
   ],
   "source": [
    "num_better_than_default = (np.array(list(acc_diff_vs_constant.values())) > 0).sum()"
   ]
  },
  {
   "cell_type": "code",
   "execution_count": 185,
   "metadata": {
    "collapsed": false
   },
   "outputs": [
    {
     "data": {
      "text/plain": [
       "125"
      ]
     },
     "execution_count": 185,
     "metadata": {},
     "output_type": "execute_result"
    }
   ],
   "source": [
    "num_better_than_default = (np.array(acc_diff_vs_constant) > 0).sum()\n",
    "num_better_than_default"
   ]
  },
  {
   "cell_type": "code",
   "execution_count": 186,
   "metadata": {
    "collapsed": false
   },
   "outputs": [
    {
     "data": {
      "text/plain": [
       "150"
      ]
     },
     "execution_count": 186,
     "metadata": {},
     "output_type": "execute_result"
    }
   ],
   "source": [
    "len(acc_diff_vs_constant)"
   ]
  },
  {
   "cell_type": "code",
   "execution_count": 187,
   "metadata": {
    "collapsed": false
   },
   "outputs": [
    {
     "data": {
      "text/plain": [
       "0.83333333333333337"
      ]
     },
     "execution_count": 187,
     "metadata": {},
     "output_type": "execute_result"
    }
   ],
   "source": [
    "num_better_than_default/150"
   ]
  },
  {
   "cell_type": "markdown",
   "metadata": {},
   "source": [
    "**Запишите в файл *answer4_7.txt* долю пользователей, для которых логистическая регрессия на кросс-валидации дает прогноз лучше константного. Округлите до 3 знаков после запятой. **"
   ]
  },
  {
   "cell_type": "code",
   "execution_count": 188,
   "metadata": {
    "collapsed": true
   },
   "outputs": [],
   "source": [
    "write_answer_to_file(round(float(num_better_than_default/150), 3), \n",
    "                     'answer4_7.txt')"
   ]
  },
  {
   "cell_type": "markdown",
   "metadata": {},
   "source": [
    "**Дальше будем строить кривые обучения для конткретного пользователя, допустим, для 128-го. Составьте новый бинарный вектор на основе *y_150users*, его значения будут 1 или 0 в зависимости от того, равен ли ID-шник пользователя 128.**"
   ]
  },
  {
   "cell_type": "code",
   "execution_count": 196,
   "metadata": {
    "collapsed": false
   },
   "outputs": [
    {
     "data": {
      "text/plain": [
       "2340"
      ]
     },
     "execution_count": 196,
     "metadata": {},
     "output_type": "execute_result"
    }
   ],
   "source": [
    "y_binary_128 = y_150users == 128\n",
    "y_binary_128.astype('int')"
   ]
  },
  {
   "cell_type": "code",
   "execution_count": 199,
   "metadata": {
    "collapsed": true
   },
   "outputs": [],
   "source": [
    "from sklearn.model_selection import learning_curve\n",
    "\n",
    "def plot_learning_curve(val_train, val_test, train_sizes, \n",
    "                        xlabel='Training Set Size', ylabel='score'):\n",
    "    def plot_with_err(x, data, **kwargs):\n",
    "        mu, std = data.mean(1), data.std(1)\n",
    "        lines = plt.plot(x, mu, '-', **kwargs)\n",
    "        plt.fill_between(x, mu - std, mu + std, edgecolor='none',\n",
    "                         facecolor=lines[0].get_color(), alpha=0.2)\n",
    "    plot_with_err(train_sizes, val_train, label='train')\n",
    "    plot_with_err(train_sizes, val_test, label='valid')\n",
    "    plt.xlabel(xlabel); plt.ylabel(ylabel)\n",
    "    plt.legend(loc='lower right');"
   ]
  },
  {
   "cell_type": "markdown",
   "metadata": {},
   "source": [
    "**Посчитайте доли правильных ответов на кросс-валидации в задаче классификации \"user128-vs-All\" в зависимости от размера выборки. Не помешает посмотреть встроенную документацию для *learning_curve*.**"
   ]
  },
  {
   "cell_type": "code",
   "execution_count": 200,
   "metadata": {
    "collapsed": false
   },
   "outputs": [
    {
     "name": "stdout",
     "output_type": "stream",
     "text": [
      "Wall time: 10.3 s\n"
     ]
    }
   ],
   "source": [
    "%%time\n",
    "train_sizes = np.linspace(0.25, 1, 20)\n",
    "estimator = svm_grid_searcher2.best_estimator_\n",
    "n_train, val_train, val_test = learning_curve(estimator, \n",
    "                                              X_sparse_150users, y_binary_128, \n",
    "                                              train_sizes=train_sizes, \n",
    "                                              cv=skf, \n",
    "                                              n_jobs=-1)"
   ]
  },
  {
   "cell_type": "code",
   "execution_count": 201,
   "metadata": {
    "collapsed": false
   },
   "outputs": [
    {
     "data": {
      "image/png": "[encoded data removed]",
      "text/plain": [
       "<matplotlib.figure.Figure at 0xce502e8>"
      ]
     },
     "metadata": {},
     "output_type": "display_data"
    }
   ],
   "source": [
    "plot_learning_curve(val_train, val_test, n_train, xlabel='train_size', ylabel='accuracy')"
   ]
  },
  {
   "cell_type": "markdown",
   "metadata": {},
   "source": [
    "**Сделайте выводы о том, помогут ли алгоритму новые размеченные данные при той же постановке задачи.**"
   ]
  },
  {
   "cell_type": "markdown",
   "metadata": {},
   "source": [
    "## Пути улучшения\n",
    "В этом проекте свобода творчества на каждом шаге, а 7 неделя посвящена общему описанию проекта (.ipynb или pdf) и взимному оцениванию. Что еще можно добавить по 4 части проекта:\n",
    "- конечно, можно проверить еще кучу алгоритмов, например, Xgboost, но в такой задаче очень маловероятно, что что-то справится лучше линейных методов\n",
    "- интересно проверить качество алгоритма на данных, где сессии выделялись не по количеству посещенных сайтов, а по времени, например, 5, 7, 10 и 15 минут. Отдельно стоит отметить данные нашего [соревнования](https://inclass.kaggle.com/c/identify-me-if-you-can-yandex-mipt) \n",
    "- опять же, если ресурсы позволяют, можно проверить, насколько хорошо можно решить задачу для 3000 пользователей\n",
    "\n",
    "На следующей неделе мы вспомним про линейные модели, обучаемые стохастическим градиентным спуском, и порадуемся тому, насколько быстрее они работают. Также сделаем первые (или не первые) посылки в [соревнование](https://inclass.kaggle.com/c/identify-me-if-you-can-yandex-mipt) Kaggle Inclass."
   ]
  }
 ],
 "metadata": {
  "anaconda-cloud": {},
  "kernelspec": {
   "display_name": "Python [Root]",
   "language": "python",
   "name": "Python [Root]"
  },
  "language_info": {
   "codemirror_mode": {
    "name": "ipython",
    "version": 2
   },
   "file_extension": ".py",
   "mimetype": "text/x-python",
   "name": "python",
   "nbconvert_exporter": "python",
   "pygments_lexer": "ipython2",
   "version": "2.7.12"
  }
 },
 "nbformat": 4,
 "nbformat_minor": 1
}
